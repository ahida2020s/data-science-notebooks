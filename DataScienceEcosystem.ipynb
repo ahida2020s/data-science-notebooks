{
 "cells": [
  {
   "cell_type": "markdown",
   "id": "629ffe93-081b-4bfa-b8c4-0f6ee07c3d7b",
   "metadata": {},
   "source": [
    "# Data Science Tools and Ecosystem"
   ]
  },
  {
   "cell_type": "markdown",
   "id": "5c029e04-a324-47d2-9613-84728d9c6c3e",
   "metadata": {},
   "source": [
    "## In this notebook, Data Science Tools and Ecosystem are summarized"
   ]
  },
  {
   "cell_type": "markdown",
   "id": "c283ad9a-f50b-4e9b-8744-6fd1d1cfa5cd",
   "metadata": {},
   "source": [
    "\n",
    "**Objectives:**\n",
    "- popular languages for datascience :py,R,java,sql,julia,c++,php\n",
    "- libraries for datascience : pandas,numpy,seaborn ,matplotlib\n",
    "- datascience tools-databases, ibm watson studio,jupyternotebook,git\n",
    "- introducing arithmetic expression"
   ]
  },
  {
   "cell_type": "markdown",
   "id": "247bfa1a-89dc-4d37-bdec-22efcceeb95e",
   "metadata": {},
   "source": [
    "## Some of the popular languages that Data Scientists use are:"
   ]
  },
  {
   "cell_type": "markdown",
   "id": "1a04d3e6-24c3-4284-9f66-eb4ac9ab5b91",
   "metadata": {},
   "source": [
    "\n",
    "1. python\n",
    "2. R\n",
    "3. sql\n",
    "4. java\n",
    "5. scala\n"
   ]
  },
  {
   "cell_type": "markdown",
   "id": "0a97e095-2c83-4e8e-963f-170c6527ccd7",
   "metadata": {},
   "source": [
    "## Some of the commonly used libraries used by Data Scientists include:\n",
    "\n",
    "1. matplotlib\n",
    "2. numpy\n",
    "3. pandas\n",
    "4. scikit_learn \n",
    "5. tensorflow"
   ]
  },
  {
   "cell_type": "markdown",
   "id": "91280d2d-8ff0-46a8-a623-285b86792167",
   "metadata": {},
   "source": [
    "## table of Data Science tools"
   ]
  },
  {
   "cell_type": "markdown",
   "id": "e615648d-80d6-4fad-841c-4ab989b7ab63",
   "metadata": {},
   "source": [
    "|Data science tools|\n",
    "|-------------------|\n",
    "|jupyter notebook|\n",
    "|Rstudio|\n",
    "|apache spark|\n",
    " |vs code|\n",
    " |IBM watson studio|\n",
    " |apache hive|"
   ]
  },
  {
   "cell_type": "markdown",
   "id": "1afd8960-a73b-4f62-b30f-2830c51fd5d7",
   "metadata": {},
   "source": [
    "## introducing arithmetic expression examples"
   ]
  },
  {
   "cell_type": "markdown",
   "id": "ed34eb4e-7c46-4ce7-ad3a-18b89afe42d5",
   "metadata": {},
   "source": [
    "###  Below are a few examples of evaluating arithmetic expressions in Python."
   ]
  },
  {
   "cell_type": "code",
   "execution_count": 22,
   "id": "73ee546a-f09d-4c91-a39f-ea35cfe98939",
   "metadata": {},
   "outputs": [
    {
     "data": {
      "text/plain": [
       "46"
      ]
     },
     "execution_count": 22,
     "metadata": {},
     "output_type": "execute_result"
    }
   ],
   "source": [
    "(2+4 )+(45-5)"
   ]
  },
  {
   "cell_type": "code",
   "execution_count": 23,
   "id": "e7539ca2-0d70-4758-ac7d-694951859fb1",
   "metadata": {},
   "outputs": [
    {
     "data": {
      "text/plain": [
       "14"
      ]
     },
     "execution_count": 23,
     "metadata": {},
     "output_type": "execute_result"
    }
   ],
   "source": [
    "(2**3) +(2*3)"
   ]
  },
  {
   "cell_type": "code",
   "execution_count": 18,
   "id": "10fc8a2d-f312-4c89-b08f-b0b820d0f699",
   "metadata": {},
   "outputs": [
    {
     "data": {
      "text/plain": [
       "0"
      ]
     },
     "execution_count": 18,
     "metadata": {},
     "output_type": "execute_result"
    }
   ],
   "source": [
    "50%10 #remainder"
   ]
  },
  {
   "cell_type": "code",
   "execution_count": 20,
   "id": "b47a2766-ec98-484e-98dd-94cad16638ec",
   "metadata": {},
   "outputs": [
    {
     "data": {
      "text/plain": [
       "5.0"
      ]
     },
     "execution_count": 20,
     "metadata": {},
     "output_type": "execute_result"
    }
   ],
   "source": [
    "50/10 # quotient"
   ]
  },
  {
   "cell_type": "code",
   "execution_count": 24,
   "id": "2165cff7-05ce-4327-ab10-aa414decf185",
   "metadata": {},
   "outputs": [
    {
     "data": {
      "text/plain": [
       "17"
      ]
     },
     "execution_count": 24,
     "metadata": {},
     "output_type": "execute_result"
    }
   ],
   "source": [
    "\n",
    "#This a simple arithmetic expression to mutiply then add integers according to operator precedence and associativity\n",
    "# (parentheses) have highest precedence\n",
    "(3*4)+5"
   ]
  },
  {
   "cell_type": "markdown",
   "id": "dd3ffcea-43fd-42ff-b91b-d78dd81eb9da",
   "metadata": {},
   "source": [
    "ctrl + / to comment multiple line at once "
   ]
  },
  {
   "cell_type": "code",
   "execution_count": 27,
   "id": "0d5585a4-755f-4c66-bac5-784c548b26dc",
   "metadata": {},
   "outputs": [
    {
     "name": "stdout",
     "output_type": "stream",
     "text": [
      "3.3333333333333335\n"
     ]
    }
   ],
   "source": [
    "minutes =200\n",
    "#This will convert 200 minutes to hours by diving by 60.\n",
    "hours = minutes / 60\n",
    "print (hours)\n"
   ]
  },
  {
   "cell_type": "markdown",
   "id": "081310d6-aaec-49e1-98cd-7e538a844703",
   "metadata": {},
   "source": [
    "## author\n",
    "shaik ahida"
   ]
  }
 ],
 "metadata": {
  "kernelspec": {
   "display_name": "Python 3 (ipykernel)",
   "language": "python",
   "name": "python3"
  },
  "language_info": {
   "codemirror_mode": {
    "name": "ipython",
    "version": 3
   },
   "file_extension": ".py",
   "mimetype": "text/x-python",
   "name": "python",
   "nbconvert_exporter": "python",
   "pygments_lexer": "ipython3",
   "version": "3.10.16"
  }
 },
 "nbformat": 4,
 "nbformat_minor": 5
}
